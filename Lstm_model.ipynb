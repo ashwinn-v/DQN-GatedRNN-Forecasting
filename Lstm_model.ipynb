{
  "cells": [
    {
      "cell_type": "code",
      "execution_count": null,
      "metadata": {
        "id": "cT_aQvU7toJf"
      },
      "outputs": [],
      "source": [
        "import numpy as np\n",
        "import pandas as pd\n",
        "import matplotlib.pyplot as plt\n",
        "import tensorflow as tf\n",
        "from keras import Sequential, layers"
      ]
    },
    {
      "cell_type": "code",
      "execution_count": null,
      "metadata": {
        "id": "CxvPuqHOtxAk",
        "colab": {
          "base_uri": "https://localhost:8080/"
        },
        "outputId": "284ca778-18e1-45c7-c674-fd007830ac04"
      },
      "outputs": [
        {
          "output_type": "stream",
          "name": "stdout",
          "text": [
            "Downloading...\n",
            "From: https://drive.google.com/uc?id=1BFJp8jzwhr0jSyE8IBRhyf58o5cSAcFp\n",
            "To: /content/nifty_train.csv\n",
            "\r  0% 0.00/247k [00:00<?, ?B/s]\r100% 247k/247k [00:00<00:00, 86.1MB/s]\n"
          ]
        }
      ],
      "source": [
        "!gdown 1BFJp8jzwhr0jSyE8IBRhyf58o5cSAcFp"
      ]
    },
    {
      "cell_type": "code",
      "execution_count": null,
      "metadata": {
        "id": "SkK1xTVstx9l",
        "colab": {
          "base_uri": "https://localhost:8080/"
        },
        "outputId": "b6afc204-68c7-4de8-a051-ac47eb320847"
      },
      "outputs": [
        {
          "output_type": "stream",
          "name": "stdout",
          "text": [
            "Downloading...\n",
            "From: https://drive.google.com/uc?id=1PpZkI41tcIwohqt5iO1QwT_SXt8O4V9A\n",
            "To: /content/nifty_test.csv\n",
            "\r  0% 0.00/27.5k [00:00<?, ?B/s]\r100% 27.5k/27.5k [00:00<00:00, 35.5MB/s]\n"
          ]
        }
      ],
      "source": [
        "!gdown 1PpZkI41tcIwohqt5iO1QwT_SXt8O4V9A"
      ]
    },
    {
      "cell_type": "code",
      "execution_count": null,
      "metadata": {
        "id": "4tL0tR7OtoJi"
      },
      "outputs": [],
      "source": [
        "train = pd.read_csv(\"/content/nifty_train.csv\")[\"Close\"]\n",
        "test = pd.read_csv(\"/content/nifty_test.csv\")[\"Close\"]"
      ]
    },
    {
      "cell_type": "code",
      "execution_count": null,
      "metadata": {
        "id": "zUVJxptDc_Yv"
      },
      "outputs": [],
      "source": [
        "\n",
        "# train = 100*train.pct_change().shift(-1)\n",
        "\n",
        "        \n",
        "#         if isTrain == True:\n",
        "#             #Step2: Neutralize returns to avoid data imbalance\n",
        "#             df['NextRets'] = df['NextRets'] - np.mean(df['NextRets'])"
      ]
    },
    {
      "cell_type": "code",
      "execution_count": null,
      "metadata": {
        "id": "gEqhzl2EwdEj"
      },
      "outputs": [],
      "source": [
        "# train = train.div(10).round(2)\n",
        "# test = test.div(10).round(2)"
      ]
    },
    {
      "cell_type": "code",
      "execution_count": null,
      "metadata": {
        "id": "98tva9b0zR8D"
      },
      "outputs": [],
      "source": [
        "train = train.dropna()\n",
        "test = test.dropna()"
      ]
    },
    {
      "cell_type": "code",
      "execution_count": null,
      "metadata": {
        "colab": {
          "base_uri": "https://localhost:8080/"
        },
        "id": "neBEjpBHzLPy",
        "outputId": "e2e28479-97d8-4887-8dd2-937f89015785"
      },
      "outputs": [
        {
          "output_type": "execute_result",
          "data": {
            "text/plain": [
              "(3178,)"
            ]
          },
          "metadata": {},
          "execution_count": 6
        }
      ],
      "source": [
        "train.shape"
      ]
    },
    {
      "cell_type": "code",
      "execution_count": null,
      "metadata": {
        "colab": {
          "base_uri": "https://localhost:8080/"
        },
        "id": "LCl_XZr2toJj",
        "outputId": "46c6b291-9e99-4f59-fed9-097fff6c7a20"
      },
      "outputs": [
        {
          "output_type": "execute_result",
          "data": {
            "text/plain": [
              "0    6144.350098\n",
              "1    6179.399902\n",
              "2    6178.549805\n",
              "3    6274.299805\n",
              "4    6279.100098\n",
              "Name: Close, dtype: float64"
            ]
          },
          "metadata": {},
          "execution_count": 7
        }
      ],
      "source": [
        "train.head()"
      ]
    },
    {
      "cell_type": "code",
      "execution_count": null,
      "metadata": {
        "id": "axoYbUZmtoJk"
      },
      "outputs": [],
      "source": []
    },
    {
      "cell_type": "code",
      "execution_count": null,
      "metadata": {
        "colab": {
          "base_uri": "https://localhost:8080/"
        },
        "id": "N3WdWBmKwyIk",
        "outputId": "d31ebf94-9306-471f-91ea-91259087fc4a"
      },
      "outputs": [
        {
          "output_type": "execute_result",
          "data": {
            "text/plain": [
              "0    14018.500000\n",
              "1    14132.900391\n",
              "2    14199.500000\n",
              "3    14146.250000\n",
              "4    14137.349609\n",
              "Name: Close, dtype: float64"
            ]
          },
          "metadata": {},
          "execution_count": 8
        }
      ],
      "source": [
        "test.head()"
      ]
    },
    {
      "cell_type": "code",
      "execution_count": null,
      "metadata": {
        "colab": {
          "base_uri": "https://localhost:8080/"
        },
        "id": "wQLYzMeru4GV",
        "outputId": "5f7b381c-56a5-4515-f2db-3cf02f112926"
      },
      "outputs": [
        {
          "output_type": "execute_result",
          "data": {
            "text/plain": [
              "<bound method NDFrame.describe of 0        6144.350098\n",
              "1        6179.399902\n",
              "2        6178.549805\n",
              "3        6274.299805\n",
              "4        6279.100098\n",
              "            ...     \n",
              "3203    13601.099609\n",
              "3204    13749.250000\n",
              "3205    13873.200195\n",
              "3206    13932.599609\n",
              "3207    13981.950195\n",
              "Name: Close, Length: 3178, dtype: float64>"
            ]
          },
          "metadata": {},
          "execution_count": 9
        }
      ],
      "source": [
        "train.describe"
      ]
    },
    {
      "cell_type": "code",
      "execution_count": null,
      "metadata": {
        "colab": {
          "base_uri": "https://localhost:8080/",
          "height": 283
        },
        "id": "tyG0zLyTtoJk",
        "outputId": "ed1c19ac-52b6-4abe-8b04-b13d932a1580"
      },
      "outputs": [
        {
          "output_type": "execute_result",
          "data": {
            "text/plain": [
              "[<matplotlib.lines.Line2D at 0x7f6dded9a450>]"
            ]
          },
          "metadata": {},
          "execution_count": 10
        },
        {
          "output_type": "display_data",
          "data": {
            "text/plain": [
              "<Figure size 432x288 with 1 Axes>"
            ],
            "image/png": "[encoded data removed]"
          },
          "metadata": {
            "needs_background": "light"
          }
        }
      ],
      "source": [
        "plt.plot(train)"
      ]
    },
    {
      "cell_type": "code",
      "execution_count": null,
      "metadata": {
        "colab": {
          "base_uri": "https://localhost:8080/",
          "height": 283
        },
        "id": "SpK2cA3DtoJk",
        "outputId": "ac15df7d-b9f1-40a8-8f75-6f9a461efe3b"
      },
      "outputs": [
        {
          "output_type": "execute_result",
          "data": {
            "text/plain": [
              "[<matplotlib.lines.Line2D at 0x7f6dde882b50>]"
            ]
          },
          "metadata": {},
          "execution_count": 11
        },
        {
          "output_type": "display_data",
          "data": {
            "text/plain": [
              "<Figure size 432x288 with 1 Axes>"
            ],
            "image/png": "[encoded data removed]"
          },
          "metadata": {
            "needs_background": "light"
          }
        }
      ],
      "source": [
        "plt.plot(test)"
      ]
    },
    {
      "cell_type": "code",
      "execution_count": null,
      "metadata": {
        "id": "TCdCSa8ZtoJl"
      },
      "outputs": [],
      "source": [
        "from sklearn.preprocessing import MinMaxScaler\n",
        "scaler = MinMaxScaler()"
      ]
    },
    {
      "cell_type": "code",
      "execution_count": null,
      "metadata": {
        "id": "unRocubitoJl"
      },
      "outputs": [],
      "source": [
        "train = scaler.fit_transform(train.to_frame()).reshape((len(train)))\n",
        "test = scaler.transform(test.to_frame()).reshape((len(test)))"
      ]
    },
    {
      "cell_type": "code",
      "execution_count": null,
      "metadata": {
        "id": "97lsg3p4toJm"
      },
      "outputs": [],
      "source": [
        "xtrain, ytrain = [], []\n",
        "for i in range(60, len(train)):\n",
        "    xtrain.append(train[i-60:i])\n",
        "    ytrain.append(train[i])\n",
        "xtrain, ytrain = np.array(xtrain), np.array(ytrain)"
      ]
    },
    {
      "cell_type": "code",
      "execution_count": null,
      "metadata": {
        "colab": {
          "base_uri": "https://localhost:8080/"
        },
        "id": "iz2iRN4PtoJn",
        "outputId": "81a866dd-8b0a-482d-c4cb-5a4068f0731d"
      },
      "outputs": [
        {
          "output_type": "execute_result",
          "data": {
            "text/plain": [
              "array([0.31595645, 0.3190155 , 0.31894131, 0.3272981 , 0.32771705,\n",
              "       0.32848073, 0.32709738, 0.31705616, 0.32082216, 0.32140689,\n",
              "       0.30983832, 0.29775043, 0.29578235, 0.27763739, 0.23430427,\n",
              "       0.20729199, 0.23383299, 0.21900026, 0.24953853, 0.2400035 ,\n",
              "       0.24058823, 0.23070848, 0.22807708, 0.2437695 , 0.25653379,\n",
              "       0.25831423, 0.24423205, 0.2277105 , 0.22658463, 0.20360018,\n",
              "       0.20196374, 0.20992343, 0.23371081, 0.24251706, 0.24024786,\n",
              "       0.24058823, 0.22956079, 0.23282056, 0.22574676, 0.23359736,\n",
              "       0.23965   , 0.239506  , 0.24096355, 0.23558727, 0.21197879,\n",
              "       0.20423294, 0.20922082, 0.19614672, 0.19866029, 0.20437694,\n",
              "       0.20490934, 0.1832297 , 0.19389495, 0.1727128 , 0.17532238,\n",
              "       0.1788964 , 0.18202964, 0.20538937, 0.20114334, 0.20126552])"
            ]
          },
          "metadata": {},
          "execution_count": 15
        }
      ],
      "source": [
        "xtrain[0]"
      ]
    },
    {
      "cell_type": "code",
      "execution_count": null,
      "metadata": {
        "id": "WaoyP0_qtoJn"
      },
      "outputs": [],
      "source": [
        "xtrain = xtrain.reshape((xtrain.shape[0], xtrain.shape[1],1))"
      ]
    },
    {
      "cell_type": "code",
      "execution_count": null,
      "metadata": {
        "colab": {
          "base_uri": "https://localhost:8080/"
        },
        "id": "6KlANAD3toJn",
        "outputId": "047c7012-c8e2-4887-a6ef-b6a9bb4a1c6f"
      },
      "outputs": [
        {
          "output_type": "execute_result",
          "data": {
            "text/plain": [
              "(3118, 60, 1)"
            ]
          },
          "metadata": {},
          "execution_count": 17
        }
      ],
      "source": [
        "xtrain.shape"
      ]
    },
    {
      "cell_type": "code",
      "execution_count": null,
      "metadata": {
        "colab": {
          "base_uri": "https://localhost:8080/"
        },
        "id": "8EbRHwKFtoJo",
        "outputId": "7bb98c45-2d94-4c68-8411-9f37e0c7168f"
      },
      "outputs": [
        {
          "output_type": "execute_result",
          "data": {
            "text/plain": [
              "(3118,)"
            ]
          },
          "metadata": {},
          "execution_count": 18
        }
      ],
      "source": [
        "ytrain.shape"
      ]
    },
    {
      "cell_type": "code",
      "execution_count": null,
      "metadata": {
        "id": "IE14LKtEtoJo"
      },
      "outputs": [],
      "source": [
        "from tensorflow.keras.callbacks import ModelCheckpoint"
      ]
    },
    {
      "cell_type": "code",
      "execution_count": null,
      "metadata": {
        "colab": {
          "base_uri": "https://localhost:8080/"
        },
        "id": "hJiCSwGStoJo",
        "outputId": "45f28f04-4785-4a2f-85b5-f5d266d271d5"
      },
      "outputs": [
        {
          "output_type": "stream",
          "name": "stdout",
          "text": [
            "Model: \"StockLSTM\"\n",
            "_________________________________________________________________\n",
            " Layer (type)                Output Shape              Param #   \n",
            "=================================================================\n",
            " lstm (LSTM)                 (None, 32)                4352      \n",
            "                                                                 \n",
            " dropout (Dropout)           (None, 32)                0         \n",
            "                                                                 \n",
            " dense (Dense)               (None, 16)                528       \n",
            "                                                                 \n",
            " batch_normalization (BatchN  (None, 16)               64        \n",
            " ormalization)                                                   \n",
            "                                                                 \n",
            " dense_1 (Dense)             (None, 1)                 17        \n",
            "                                                                 \n",
            "=================================================================\n",
            "Total params: 4,961\n",
            "Trainable params: 4,929\n",
            "Non-trainable params: 32\n",
            "_________________________________________________________________\n"
          ]
        }
      ],
      "source": [
        "def build_model(d):\n",
        "    return Sequential([layers.Input(shape=(60,1)),\n",
        "                       layers.LSTM(32),\n",
        "                       layers.Dropout(d),\n",
        "                       layers.Dense(16, activation=\"relu\"),\n",
        "                       layers.BatchNormalization(),\n",
        "                       layers.Dense(1)],\n",
        "                      name=\"StockLSTM\")\n",
        "model = build_model(0.2)\n",
        "model.summary()\n",
        "path=\"model.hdf5\"\n",
        "checkpoint = ModelCheckpoint(filepath=path, monitor=\"MAPE\", verbose=1, save_best_only=True, mode='min')\n",
        "model.compile(loss=\"mean_squared_error\", optimizer=\"adam\", metrics=[tf.keras.losses.MeanAbsolutePercentageError(name=\"MAPE\")])"
      ]
    },
    {
      "cell_type": "code",
      "execution_count": null,
      "metadata": {
        "colab": {
          "base_uri": "https://localhost:8080/"
        },
        "id": "rEgC3Op1xC1s",
        "outputId": "9bbc1b4d-223a-4bb9-9ae9-a21484c6940e"
      },
      "outputs": [
        {
          "output_type": "execute_result",
          "data": {
            "text/plain": [
              "(3118,)"
            ]
          },
          "metadata": {},
          "execution_count": 21
        }
      ],
      "source": [
        "ytrain.shape"
      ]
    },
    {
      "cell_type": "code",
      "execution_count": null,
      "metadata": {
        "colab": {
          "base_uri": "https://localhost:8080/"
        },
        "id": "NAhzBIcNtoJp",
        "outputId": "0e809a22-7c32-4075-d940-a80bd4672609"
      },
      "outputs": [
        {
          "output_type": "stream",
          "name": "stdout",
          "text": [
            "Epoch 1/100\n",
            "96/98 [============================>.] - ETA: 0s - loss: 0.1119 - MAPE: 68979.9297\n",
            "Epoch 1: MAPE improved from inf to 67572.81250, saving model to model.hdf5\n",
            "98/98 [==============================] - 5s 22ms/step - loss: 0.1107 - MAPE: 67572.8125\n",
            "Epoch 2/100\n",
            "96/98 [============================>.] - ETA: 0s - loss: 0.0070 - MAPE: 4984.0737\n",
            "Epoch 2: MAPE improved from 67572.81250 to 4882.76221, saving model to model.hdf5\n",
            "98/98 [==============================] - 2s 23ms/step - loss: 0.0070 - MAPE: 4882.7622\n",
            "Epoch 3/100\n",
            "96/98 [============================>.] - ETA: 0s - loss: 0.0038 - MAPE: 36175.4258\n",
            "Epoch 3: MAPE did not improve from 4882.76221\n",
            "98/98 [==============================] - 2s 22ms/step - loss: 0.0038 - MAPE: 35437.8945\n",
            "Epoch 4/100\n",
            "98/98 [==============================] - ETA: 0s - loss: 0.0035 - MAPE: 20603.2305\n",
            "Epoch 4: MAPE did not improve from 4882.76221\n",
            "98/98 [==============================] - 2s 22ms/step - loss: 0.0035 - MAPE: 20603.2305\n",
            "Epoch 5/100\n",
            "97/98 [============================>.] - ETA: 0s - loss: 0.0033 - MAPE: 3926.1187\n",
            "Epoch 5: MAPE improved from 4882.76221 to 3886.25513, saving model to model.hdf5\n",
            "98/98 [==============================] - 2s 22ms/step - loss: 0.0033 - MAPE: 3886.2551\n",
            "Epoch 6/100\n",
            "98/98 [==============================] - ETA: 0s - loss: 0.0026 - MAPE: 40714.0352\n",
            "Epoch 6: MAPE did not improve from 3886.25513\n",
            "98/98 [==============================] - 2s 22ms/step - loss: 0.0026 - MAPE: 40714.0352\n",
            "Epoch 7/100\n",
            "98/98 [==============================] - ETA: 0s - loss: 0.0031 - MAPE: 6461.0645\n",
            "Epoch 7: MAPE did not improve from 3886.25513\n",
            "98/98 [==============================] - 2s 22ms/step - loss: 0.0031 - MAPE: 6461.0645\n",
            "Epoch 8/100\n",
            "97/98 [============================>.] - ETA: 0s - loss: 0.0027 - MAPE: 3160.7268\n",
            "Epoch 8: MAPE improved from 3886.25513 to 3128.52612, saving model to model.hdf5\n",
            "98/98 [==============================] - 2s 23ms/step - loss: 0.0027 - MAPE: 3128.5261\n",
            "Epoch 9/100\n",
            "97/98 [============================>.] - ETA: 0s - loss: 0.0029 - MAPE: 14293.5498\n",
            "Epoch 9: MAPE did not improve from 3128.52612\n",
            "98/98 [==============================] - 2s 21ms/step - loss: 0.0029 - MAPE: 14147.8721\n",
            "Epoch 10/100\n",
            "97/98 [============================>.] - ETA: 0s - loss: 0.0025 - MAPE: 15435.7969\n",
            "Epoch 10: MAPE did not improve from 3128.52612\n",
            "98/98 [==============================] - 2s 22ms/step - loss: 0.0026 - MAPE: 15278.9590\n",
            "Epoch 11/100\n",
            "96/98 [============================>.] - ETA: 0s - loss: 0.0026 - MAPE: 28805.6895\n",
            "Epoch 11: MAPE did not improve from 3128.52612\n",
            "98/98 [==============================] - 2s 21ms/step - loss: 0.0026 - MAPE: 28218.6094\n",
            "Epoch 12/100\n",
            "97/98 [============================>.] - ETA: 0s - loss: 0.0022 - MAPE: 9268.9404\n",
            "Epoch 12: MAPE did not improve from 3128.52612\n",
            "98/98 [==============================] - 2s 22ms/step - loss: 0.0022 - MAPE: 9174.4590\n",
            "Epoch 13/100\n",
            "98/98 [==============================] - ETA: 0s - loss: 0.0025 - MAPE: 16301.5117\n",
            "Epoch 13: MAPE did not improve from 3128.52612\n",
            "98/98 [==============================] - 2s 22ms/step - loss: 0.0025 - MAPE: 16301.5117\n",
            "Epoch 14/100\n",
            "97/98 [============================>.] - ETA: 0s - loss: 0.0025 - MAPE: 21294.9336\n",
            "Epoch 14: MAPE did not improve from 3128.52612\n",
            "98/98 [==============================] - 2s 22ms/step - loss: 0.0025 - MAPE: 21077.7910\n",
            "Epoch 15/100\n",
            "96/98 [============================>.] - ETA: 0s - loss: 0.0022 - MAPE: 11940.8516\n",
            "Epoch 15: MAPE did not improve from 3128.52612\n",
            "98/98 [==============================] - 2s 22ms/step - loss: 0.0022 - MAPE: 11697.5762\n",
            "Epoch 16/100\n",
            "96/98 [============================>.] - ETA: 0s - loss: 0.0027 - MAPE: 19779.4434\n",
            "Epoch 16: MAPE did not improve from 3128.52612\n",
            "98/98 [==============================] - 2s 22ms/step - loss: 0.0028 - MAPE: 19376.4805\n",
            "Epoch 17/100\n",
            "97/98 [============================>.] - ETA: 0s - loss: 0.0028 - MAPE: 12554.4707\n",
            "Epoch 17: MAPE did not improve from 3128.52612\n",
            "98/98 [==============================] - 2s 22ms/step - loss: 0.0028 - MAPE: 12426.6016\n",
            "Epoch 18/100\n",
            "98/98 [==============================] - ETA: 0s - loss: 0.0028 - MAPE: 24796.6230\n",
            "Epoch 18: MAPE did not improve from 3128.52612\n",
            "98/98 [==============================] - 2s 22ms/step - loss: 0.0028 - MAPE: 24796.6230\n",
            "Epoch 19/100\n",
            "96/98 [============================>.] - ETA: 0s - loss: 0.0023 - MAPE: 13328.8682\n",
            "Epoch 19: MAPE did not improve from 3128.52612\n",
            "98/98 [==============================] - 2s 22ms/step - loss: 0.0024 - MAPE: 13057.7949\n",
            "Epoch 20/100\n",
            "97/98 [============================>.] - ETA: 0s - loss: 0.0023 - MAPE: 14410.7100\n",
            "Epoch 20: MAPE did not improve from 3128.52612\n",
            "98/98 [==============================] - 2s 22ms/step - loss: 0.0023 - MAPE: 14263.8320\n",
            "Epoch 21/100\n",
            "97/98 [============================>.] - ETA: 0s - loss: 0.0024 - MAPE: 2080.2573\n",
            "Epoch 21: MAPE improved from 3128.52612 to 2059.19434, saving model to model.hdf5\n",
            "98/98 [==============================] - 2s 23ms/step - loss: 0.0024 - MAPE: 2059.1943\n",
            "Epoch 22/100\n",
            "97/98 [============================>.] - ETA: 0s - loss: 0.0023 - MAPE: 21799.2090\n",
            "Epoch 22: MAPE did not improve from 2059.19434\n",
            "98/98 [==============================] - 2s 23ms/step - loss: 0.0023 - MAPE: 21577.1504\n",
            "Epoch 23/100\n",
            "97/98 [============================>.] - ETA: 0s - loss: 0.0024 - MAPE: 26544.0391\n",
            "Epoch 23: MAPE did not improve from 2059.19434\n",
            "98/98 [==============================] - 2s 22ms/step - loss: 0.0024 - MAPE: 26273.4180\n",
            "Epoch 24/100\n",
            "98/98 [==============================] - ETA: 0s - loss: 0.0029 - MAPE: 39978.5664\n",
            "Epoch 24: MAPE did not improve from 2059.19434\n",
            "98/98 [==============================] - 2s 22ms/step - loss: 0.0029 - MAPE: 39978.5664\n",
            "Epoch 25/100\n",
            "96/98 [============================>.] - ETA: 0s - loss: 0.0025 - MAPE: 23487.4590\n",
            "Epoch 25: MAPE did not improve from 2059.19434\n",
            "98/98 [==============================] - 2s 21ms/step - loss: 0.0025 - MAPE: 23008.6309\n",
            "Epoch 26/100\n",
            "97/98 [============================>.] - ETA: 0s - loss: 0.0022 - MAPE: 1482.3105\n",
            "Epoch 26: MAPE improved from 2059.19434 to 1467.24329, saving model to model.hdf5\n",
            "98/98 [==============================] - 2s 22ms/step - loss: 0.0022 - MAPE: 1467.2433\n",
            "Epoch 27/100\n",
            "98/98 [==============================] - ETA: 0s - loss: 0.0025 - MAPE: 4123.3887\n",
            "Epoch 27: MAPE did not improve from 1467.24329\n",
            "98/98 [==============================] - 2s 22ms/step - loss: 0.0025 - MAPE: 4123.3887\n",
            "Epoch 28/100\n",
            "96/98 [============================>.] - ETA: 0s - loss: 0.0025 - MAPE: 11222.6631\n",
            "Epoch 28: MAPE did not improve from 1467.24329\n",
            "98/98 [==============================] - 3s 34ms/step - loss: 0.0025 - MAPE: 10993.9805\n",
            "Epoch 29/100\n",
            "96/98 [============================>.] - ETA: 0s - loss: 0.0024 - MAPE: 24078.1797\n",
            "Epoch 29: MAPE did not improve from 1467.24329\n",
            "98/98 [==============================] - 3s 28ms/step - loss: 0.0024 - MAPE: 23587.1602\n",
            "Epoch 30/100\n",
            "96/98 [============================>.] - ETA: 0s - loss: 0.0023 - MAPE: 3579.1514\n",
            "Epoch 30: MAPE did not improve from 1467.24329\n",
            "98/98 [==============================] - 2s 22ms/step - loss: 0.0023 - MAPE: 3506.5554\n",
            "Epoch 31/100\n",
            "96/98 [============================>.] - ETA: 0s - loss: 0.0021 - MAPE: 11369.3320\n",
            "Epoch 31: MAPE did not improve from 1467.24329\n",
            "98/98 [==============================] - 2s 22ms/step - loss: 0.0021 - MAPE: 11137.8008\n",
            "Epoch 32/100\n",
            "97/98 [============================>.] - ETA: 0s - loss: 0.0021 - MAPE: 5231.0288\n",
            "Epoch 32: MAPE did not improve from 1467.24329\n",
            "98/98 [==============================] - 2s 22ms/step - loss: 0.0021 - MAPE: 5177.8140\n",
            "Epoch 33/100\n",
            "98/98 [==============================] - ETA: 0s - loss: 0.0021 - MAPE: 34445.3281\n",
            "Epoch 33: MAPE did not improve from 1467.24329\n",
            "98/98 [==============================] - 2s 22ms/step - loss: 0.0021 - MAPE: 34445.3281\n",
            "Epoch 34/100\n",
            "97/98 [============================>.] - ETA: 0s - loss: 0.0021 - MAPE: 27260.0879\n",
            "Epoch 34: MAPE did not improve from 1467.24329\n",
            "98/98 [==============================] - 2s 23ms/step - loss: 0.0021 - MAPE: 26981.9727\n",
            "Epoch 35/100\n",
            "98/98 [==============================] - ETA: 0s - loss: 0.0023 - MAPE: 5347.0752\n",
            "Epoch 35: MAPE did not improve from 1467.24329\n",
            "98/98 [==============================] - 2s 22ms/step - loss: 0.0023 - MAPE: 5347.0752\n",
            "Epoch 36/100\n",
            "98/98 [==============================] - ETA: 0s - loss: 0.0021 - MAPE: 9391.7031\n",
            "Epoch 36: MAPE did not improve from 1467.24329\n",
            "98/98 [==============================] - 2s 22ms/step - loss: 0.0021 - MAPE: 9391.7031\n",
            "Epoch 37/100\n",
            "97/98 [============================>.] - ETA: 0s - loss: 0.0021 - MAPE: 20552.8398\n",
            "Epoch 37: MAPE did not improve from 1467.24329\n",
            "98/98 [==============================] - 2s 23ms/step - loss: 0.0021 - MAPE: 20343.3105\n",
            "Epoch 38/100\n",
            "97/98 [============================>.] - ETA: 0s - loss: 0.0027 - MAPE: 35219.2461\n",
            "Epoch 38: MAPE did not improve from 1467.24329\n",
            "98/98 [==============================] - 2s 22ms/step - loss: 0.0027 - MAPE: 34859.9570\n",
            "Epoch 39/100\n",
            "97/98 [============================>.] - ETA: 0s - loss: 0.0018 - MAPE: 6925.4038\n",
            "Epoch 39: MAPE did not improve from 1467.24329\n",
            "98/98 [==============================] - 2s 22ms/step - loss: 0.0018 - MAPE: 6854.8789\n",
            "Epoch 40/100\n",
            "98/98 [==============================] - ETA: 0s - loss: 0.0018 - MAPE: 2582.1238\n",
            "Epoch 40: MAPE did not improve from 1467.24329\n",
            "98/98 [==============================] - 2s 23ms/step - loss: 0.0018 - MAPE: 2582.1238\n",
            "Epoch 41/100\n",
            "97/98 [============================>.] - ETA: 0s - loss: 0.0021 - MAPE: 24732.8770\n",
            "Epoch 41: MAPE did not improve from 1467.24329\n",
            "98/98 [==============================] - 2s 23ms/step - loss: 0.0021 - MAPE: 24480.6973\n",
            "Epoch 42/100\n",
            "96/98 [============================>.] - ETA: 0s - loss: 0.0019 - MAPE: 22815.8027\n",
            "Epoch 42: MAPE did not improve from 1467.24329\n",
            "98/98 [==============================] - 2s 22ms/step - loss: 0.0018 - MAPE: 22350.4746\n",
            "Epoch 43/100\n",
            "98/98 [==============================] - ETA: 0s - loss: 0.0025 - MAPE: 15294.8340\n",
            "Epoch 43: MAPE did not improve from 1467.24329\n",
            "98/98 [==============================] - 2s 23ms/step - loss: 0.0025 - MAPE: 15294.8340\n",
            "Epoch 44/100\n",
            "97/98 [============================>.] - ETA: 0s - loss: 0.0021 - MAPE: 42150.8320\n",
            "Epoch 44: MAPE did not improve from 1467.24329\n",
            "98/98 [==============================] - 2s 22ms/step - loss: 0.0021 - MAPE: 41720.9609\n",
            "Epoch 45/100\n",
            "97/98 [============================>.] - ETA: 0s - loss: 0.0022 - MAPE: 22007.1934\n",
            "Epoch 45: MAPE did not improve from 1467.24329\n",
            "98/98 [==============================] - 2s 23ms/step - loss: 0.0022 - MAPE: 21782.7441\n",
            "Epoch 46/100\n",
            "96/98 [============================>.] - ETA: 0s - loss: 0.0021 - MAPE: 25000.7031\n",
            "Epoch 46: MAPE did not improve from 1467.24329\n",
            "98/98 [==============================] - 2s 23ms/step - loss: 0.0021 - MAPE: 24490.5820\n",
            "Epoch 47/100\n",
            "97/98 [============================>.] - ETA: 0s - loss: 0.0021 - MAPE: 25689.6953\n",
            "Epoch 47: MAPE did not improve from 1467.24329\n",
            "98/98 [==============================] - 2s 23ms/step - loss: 0.0022 - MAPE: 25427.9980\n",
            "Epoch 48/100\n",
            "96/98 [============================>.] - ETA: 0s - loss: 0.0021 - MAPE: 35091.5742\n",
            "Epoch 48: MAPE did not improve from 1467.24329\n",
            "98/98 [==============================] - 2s 22ms/step - loss: 0.0021 - MAPE: 34375.9805\n",
            "Epoch 49/100\n",
            "96/98 [============================>.] - ETA: 0s - loss: 0.0023 - MAPE: 26210.5215\n",
            "Epoch 49: MAPE did not improve from 1467.24329\n",
            "98/98 [==============================] - 2s 22ms/step - loss: 0.0024 - MAPE: 25676.1172\n",
            "Epoch 50/100\n",
            "97/98 [============================>.] - ETA: 0s - loss: 0.0018 - MAPE: 9082.0371\n",
            "Epoch 50: MAPE did not improve from 1467.24329\n",
            "98/98 [==============================] - 2s 22ms/step - loss: 0.0018 - MAPE: 8989.5742\n",
            "Epoch 51/100\n",
            "98/98 [==============================] - ETA: 0s - loss: 0.0021 - MAPE: 9729.4766\n",
            "Epoch 51: MAPE did not improve from 1467.24329\n",
            "98/98 [==============================] - 2s 22ms/step - loss: 0.0021 - MAPE: 9729.4766\n",
            "Epoch 52/100\n",
            "96/98 [============================>.] - ETA: 0s - loss: 0.0022 - MAPE: 36419.6367\n",
            "Epoch 52: MAPE did not improve from 1467.24329\n",
            "98/98 [==============================] - 2s 22ms/step - loss: 0.0021 - MAPE: 35676.6406\n",
            "Epoch 53/100\n",
            "96/98 [============================>.] - ETA: 0s - loss: 0.0021 - MAPE: 25100.3027\n",
            "Epoch 53: MAPE did not improve from 1467.24329\n",
            "98/98 [==============================] - 2s 22ms/step - loss: 0.0021 - MAPE: 24588.1719\n",
            "Epoch 54/100\n",
            "98/98 [==============================] - ETA: 0s - loss: 0.0019 - MAPE: 20817.9551\n",
            "Epoch 54: MAPE did not improve from 1467.24329\n",
            "98/98 [==============================] - 2s 22ms/step - loss: 0.0019 - MAPE: 20817.9551\n",
            "Epoch 55/100\n",
            "98/98 [==============================] - ETA: 0s - loss: 0.0016 - MAPE: 2004.1271\n",
            "Epoch 55: MAPE did not improve from 1467.24329\n",
            "98/98 [==============================] - 2s 22ms/step - loss: 0.0016 - MAPE: 2004.1271\n",
            "Epoch 56/100\n",
            "96/98 [============================>.] - ETA: 0s - loss: 0.0020 - MAPE: 9759.0635 \n",
            "Epoch 56: MAPE did not improve from 1467.24329\n",
            "98/98 [==============================] - 2s 22ms/step - loss: 0.0020 - MAPE: 9560.1523\n",
            "Epoch 57/100\n",
            "96/98 [============================>.] - ETA: 0s - loss: 0.0020 - MAPE: 15.6794\n",
            "Epoch 57: MAPE did not improve from 1467.24329\n",
            "98/98 [==============================] - 2s 22ms/step - loss: 0.0020 - MAPE: 7342.1523\n",
            "Epoch 58/100\n",
            "97/98 [============================>.] - ETA: 0s - loss: 0.0020 - MAPE: 23264.0059\n",
            "Epoch 58: MAPE did not improve from 1467.24329\n",
            "98/98 [==============================] - 2s 23ms/step - loss: 0.0020 - MAPE: 23026.9004\n",
            "Epoch 59/100\n",
            "96/98 [============================>.] - ETA: 0s - loss: 0.0021 - MAPE: 42137.2852\n",
            "Epoch 59: MAPE did not improve from 1467.24329\n",
            "98/98 [==============================] - 2s 22ms/step - loss: 0.0021 - MAPE: 41277.6289\n",
            "Epoch 60/100\n",
            "97/98 [============================>.] - ETA: 0s - loss: 0.0020 - MAPE: 9024.5332\n",
            "Epoch 60: MAPE did not improve from 1467.24329\n",
            "98/98 [==============================] - 2s 23ms/step - loss: 0.0020 - MAPE: 8932.4922\n",
            "Epoch 61/100\n",
            "96/98 [============================>.] - ETA: 0s - loss: 0.0018 - MAPE: 22091.4316\n",
            "Epoch 61: MAPE did not improve from 1467.24329\n",
            "98/98 [==============================] - 2s 22ms/step - loss: 0.0019 - MAPE: 21641.7832\n",
            "Epoch 62/100\n",
            "96/98 [============================>.] - ETA: 0s - loss: 0.0019 - MAPE: 11445.8994\n",
            "Epoch 62: MAPE did not improve from 1467.24329\n",
            "98/98 [==============================] - 2s 22ms/step - loss: 0.0020 - MAPE: 11212.7266\n",
            "Epoch 63/100\n",
            "96/98 [============================>.] - ETA: 0s - loss: 0.0020 - MAPE: 7766.4663\n",
            "Epoch 63: MAPE did not improve from 1467.24329\n",
            "98/98 [==============================] - 2s 23ms/step - loss: 0.0020 - MAPE: 7608.1211\n",
            "Epoch 64/100\n",
            "97/98 [============================>.] - ETA: 0s - loss: 0.0018 - MAPE: 15730.8115\n",
            "Epoch 64: MAPE did not improve from 1467.24329\n",
            "98/98 [==============================] - 2s 23ms/step - loss: 0.0019 - MAPE: 15570.7705\n",
            "Epoch 65/100\n",
            "96/98 [============================>.] - ETA: 0s - loss: 0.0023 - MAPE: 32020.6172\n",
            "Epoch 65: MAPE did not improve from 1467.24329\n",
            "98/98 [==============================] - 2s 22ms/step - loss: 0.0023 - MAPE: 31367.2363\n",
            "Epoch 66/100\n",
            "98/98 [==============================] - ETA: 0s - loss: 0.0016 - MAPE: 16977.8770\n",
            "Epoch 66: MAPE did not improve from 1467.24329\n",
            "98/98 [==============================] - 2s 23ms/step - loss: 0.0016 - MAPE: 16977.8770\n",
            "Epoch 67/100\n",
            "96/98 [============================>.] - ETA: 0s - loss: 0.0017 - MAPE: 35652.5117\n",
            "Epoch 67: MAPE did not improve from 1467.24329\n",
            "98/98 [==============================] - 2s 22ms/step - loss: 0.0017 - MAPE: 34925.2695\n",
            "Epoch 68/100\n",
            "98/98 [==============================] - ETA: 0s - loss: 0.0019 - MAPE: 1316.5942\n",
            "Epoch 68: MAPE improved from 1467.24329 to 1316.59424, saving model to model.hdf5\n",
            "98/98 [==============================] - 2s 23ms/step - loss: 0.0019 - MAPE: 1316.5942\n",
            "Epoch 69/100\n",
            "97/98 [============================>.] - ETA: 0s - loss: 0.0020 - MAPE: 13215.8750\n",
            "Epoch 69: MAPE did not improve from 1316.59424\n",
            "98/98 [==============================] - 2s 22ms/step - loss: 0.0020 - MAPE: 13081.0713\n",
            "Epoch 70/100\n",
            "97/98 [============================>.] - ETA: 0s - loss: 0.0024 - MAPE: 13816.3584\n",
            "Epoch 70: MAPE did not improve from 1316.59424\n",
            "98/98 [==============================] - 2s 22ms/step - loss: 0.0024 - MAPE: 13675.4473\n",
            "Epoch 71/100\n",
            "96/98 [============================>.] - ETA: 0s - loss: 0.0019 - MAPE: 22779.9238\n",
            "Epoch 71: MAPE did not improve from 1316.59424\n",
            "98/98 [==============================] - 2s 22ms/step - loss: 0.0019 - MAPE: 22315.6523\n",
            "Epoch 72/100\n",
            "96/98 [============================>.] - ETA: 0s - loss: 0.0018 - MAPE: 5034.5303\n",
            "Epoch 72: MAPE did not improve from 1316.59424\n",
            "98/98 [==============================] - 2s 22ms/step - loss: 0.0018 - MAPE: 4932.0020\n",
            "Epoch 73/100\n",
            "98/98 [==============================] - ETA: 0s - loss: 0.0018 - MAPE: 19081.3887\n",
            "Epoch 73: MAPE did not improve from 1316.59424\n",
            "98/98 [==============================] - 2s 22ms/step - loss: 0.0018 - MAPE: 19081.3887\n",
            "Epoch 74/100\n",
            "98/98 [==============================] - ETA: 0s - loss: 0.0022 - MAPE: 7118.2773\n",
            "Epoch 74: MAPE did not improve from 1316.59424\n",
            "98/98 [==============================] - 2s 23ms/step - loss: 0.0022 - MAPE: 7118.2773\n",
            "Epoch 75/100\n",
            "96/98 [============================>.] - ETA: 0s - loss: 0.0020 - MAPE: 1203.2224\n",
            "Epoch 75: MAPE improved from 1316.59424 to 1178.92017, saving model to model.hdf5\n",
            "98/98 [==============================] - 2s 23ms/step - loss: 0.0020 - MAPE: 1178.9202\n",
            "Epoch 76/100\n",
            "96/98 [============================>.] - ETA: 0s - loss: 0.0022 - MAPE: 18363.8555\n",
            "Epoch 76: MAPE did not improve from 1178.92017\n",
            "98/98 [==============================] - 2s 23ms/step - loss: 0.0022 - MAPE: 17989.4336\n",
            "Epoch 77/100\n",
            "97/98 [============================>.] - ETA: 0s - loss: 0.0018 - MAPE: 15006.1406\n",
            "Epoch 77: MAPE did not improve from 1178.92017\n",
            "98/98 [==============================] - 2s 22ms/step - loss: 0.0018 - MAPE: 14853.1113\n",
            "Epoch 78/100\n",
            "97/98 [============================>.] - ETA: 0s - loss: 0.0020 - MAPE: 9811.5908\n",
            "Epoch 78: MAPE did not improve from 1178.92017\n",
            "98/98 [==============================] - 2s 22ms/step - loss: 0.0021 - MAPE: 9711.7217\n",
            "Epoch 79/100\n",
            "98/98 [==============================] - ETA: 0s - loss: 0.0017 - MAPE: 18152.3652\n",
            "Epoch 79: MAPE did not improve from 1178.92017\n",
            "98/98 [==============================] - 2s 22ms/step - loss: 0.0017 - MAPE: 18152.3652\n",
            "Epoch 80/100\n",
            "96/98 [============================>.] - ETA: 0s - loss: 0.0019 - MAPE: 10213.8857\n",
            "Epoch 80: MAPE did not improve from 1178.92017\n",
            "98/98 [==============================] - 2s 23ms/step - loss: 0.0019 - MAPE: 10005.7246\n",
            "Epoch 81/100\n",
            "97/98 [============================>.] - ETA: 0s - loss: 0.0020 - MAPE: 2487.6614\n",
            "Epoch 81: MAPE did not improve from 1178.92017\n",
            "98/98 [==============================] - 2s 24ms/step - loss: 0.0020 - MAPE: 2462.4436\n",
            "Epoch 82/100\n",
            "96/98 [============================>.] - ETA: 0s - loss: 0.0017 - MAPE: 2549.2034\n",
            "Epoch 82: MAPE did not improve from 1178.92017\n",
            "98/98 [==============================] - 2s 22ms/step - loss: 0.0018 - MAPE: 2497.5596\n",
            "Epoch 83/100\n",
            "98/98 [==============================] - ETA: 0s - loss: 0.0017 - MAPE: 22011.7324\n",
            "Epoch 83: MAPE did not improve from 1178.92017\n",
            "98/98 [==============================] - 2s 22ms/step - loss: 0.0017 - MAPE: 22011.7324\n",
            "Epoch 84/100\n",
            "97/98 [============================>.] - ETA: 0s - loss: 0.0017 - MAPE: 2716.9114\n",
            "Epoch 84: MAPE did not improve from 1178.92017\n",
            "98/98 [==============================] - 2s 22ms/step - loss: 0.0017 - MAPE: 2689.4512\n",
            "Epoch 85/100\n",
            "97/98 [============================>.] - ETA: 0s - loss: 0.0019 - MAPE: 32145.8438\n",
            "Epoch 85: MAPE did not improve from 1178.92017\n",
            "98/98 [==============================] - 2s 23ms/step - loss: 0.0019 - MAPE: 31818.3984\n",
            "Epoch 86/100\n",
            "97/98 [============================>.] - ETA: 0s - loss: 0.0021 - MAPE: 3484.3601\n",
            "Epoch 86: MAPE did not improve from 1178.92017\n",
            "98/98 [==============================] - 2s 22ms/step - loss: 0.0021 - MAPE: 3448.8701\n",
            "Epoch 87/100\n",
            "97/98 [============================>.] - ETA: 0s - loss: 0.0021 - MAPE: 24920.7676\n",
            "Epoch 87: MAPE did not improve from 1178.92017\n",
            "98/98 [==============================] - 2s 22ms/step - loss: 0.0021 - MAPE: 24666.5156\n",
            "Epoch 88/100\n",
            "98/98 [==============================] - ETA: 0s - loss: 0.0019 - MAPE: 17400.1934\n",
            "Epoch 88: MAPE did not improve from 1178.92017\n",
            "98/98 [==============================] - 2s 22ms/step - loss: 0.0019 - MAPE: 17400.1934\n",
            "Epoch 89/100\n",
            "97/98 [============================>.] - ETA: 0s - loss: 0.0018 - MAPE: 11049.0039\n",
            "Epoch 89: MAPE did not improve from 1178.92017\n",
            "98/98 [==============================] - 2s 23ms/step - loss: 0.0018 - MAPE: 10936.3828\n",
            "Epoch 90/100\n",
            "98/98 [==============================] - ETA: 0s - loss: 0.0021 - MAPE: 19567.1836\n",
            "Epoch 90: MAPE did not improve from 1178.92017\n",
            "98/98 [==============================] - 2s 22ms/step - loss: 0.0021 - MAPE: 19567.1836\n",
            "Epoch 91/100\n",
            "96/98 [============================>.] - ETA: 0s - loss: 0.0018 - MAPE: 14816.1416\n",
            "Epoch 91: MAPE did not improve from 1178.92017\n",
            "98/98 [==============================] - 2s 23ms/step - loss: 0.0018 - MAPE: 14513.8682\n",
            "Epoch 92/100\n",
            "97/98 [============================>.] - ETA: 0s - loss: 0.0018 - MAPE: 14870.2676\n",
            "Epoch 92: MAPE did not improve from 1178.92017\n",
            "98/98 [==============================] - 2s 22ms/step - loss: 0.0019 - MAPE: 14718.8086\n",
            "Epoch 93/100\n",
            "97/98 [============================>.] - ETA: 0s - loss: 0.0019 - MAPE: 14188.9570\n",
            "Epoch 93: MAPE did not improve from 1178.92017\n",
            "98/98 [==============================] - 2s 22ms/step - loss: 0.0019 - MAPE: 14044.2109\n",
            "Epoch 94/100\n",
            "97/98 [============================>.] - ETA: 0s - loss: 0.0021 - MAPE: 9174.8428\n",
            "Epoch 94: MAPE did not improve from 1178.92017\n",
            "98/98 [==============================] - 2s 23ms/step - loss: 0.0022 - MAPE: 9081.7988\n",
            "Epoch 95/100\n",
            "98/98 [==============================] - ETA: 0s - loss: 0.0020 - MAPE: 107.5890\n",
            "Epoch 95: MAPE improved from 1178.92017 to 107.58897, saving model to model.hdf5\n",
            "98/98 [==============================] - 2s 23ms/step - loss: 0.0020 - MAPE: 107.5890\n",
            "Epoch 96/100\n",
            "97/98 [============================>.] - ETA: 0s - loss: 0.0022 - MAPE: 22992.5703\n",
            "Epoch 96: MAPE did not improve from 107.58897\n",
            "98/98 [==============================] - 2s 23ms/step - loss: 0.0022 - MAPE: 22758.0430\n",
            "Epoch 97/100\n",
            "98/98 [==============================] - ETA: 0s - loss: 0.0022 - MAPE: 1547.5397\n",
            "Epoch 97: MAPE did not improve from 107.58897\n",
            "98/98 [==============================] - 2s 22ms/step - loss: 0.0022 - MAPE: 1547.5397\n",
            "Epoch 98/100\n",
            "97/98 [============================>.] - ETA: 0s - loss: 0.0017 - MAPE: 693.3770\n",
            "Epoch 98: MAPE did not improve from 107.58897\n",
            "98/98 [==============================] - 2s 22ms/step - loss: 0.0019 - MAPE: 686.6847\n",
            "Epoch 99/100\n",
            "98/98 [==============================] - ETA: 0s - loss: 0.0025 - MAPE: 30487.4688\n",
            "Epoch 99: MAPE did not improve from 107.58897\n",
            "98/98 [==============================] - 2s 22ms/step - loss: 0.0025 - MAPE: 30487.4688\n",
            "Epoch 100/100\n",
            "96/98 [============================>.] - ETA: 0s - loss: 0.0019 - MAPE: 16961.7773\n",
            "Epoch 100: MAPE did not improve from 107.58897\n",
            "98/98 [==============================] - 2s 22ms/step - loss: 0.0019 - MAPE: 16615.9961\n"
          ]
        },
        {
          "output_type": "execute_result",
          "data": {
            "text/plain": [
              "<keras.callbacks.History at 0x7f6dda57b090>"
            ]
          },
          "metadata": {},
          "execution_count": 22
        }
      ],
      "source": [
        "model.fit(xtrain, ytrain, epochs=100, batch_size=32, callbacks=[checkpoint])"
      ]
    },
    {
      "cell_type": "code",
      "execution_count": null,
      "metadata": {
        "id": "h9AbnEOntoJp"
      },
      "outputs": [],
      "source": [
        "model.load_weights(\"/content/model.hdf5\")"
      ]
    },
    {
      "cell_type": "code",
      "execution_count": null,
      "metadata": {
        "id": "4Pf0cmHqtoJp"
      },
      "outputs": [],
      "source": [
        "for_pred=np.hstack([train[len(train)-60:len(train)], test])"
      ]
    },
    {
      "cell_type": "code",
      "execution_count": null,
      "metadata": {
        "colab": {
          "base_uri": "https://localhost:8080/"
        },
        "id": "yXr3o0JM0142",
        "outputId": "1a1f568d-e388-4186-eea3-7938059fb9aa"
      },
      "outputs": [
        {
          "output_type": "execute_result",
          "data": {
            "text/plain": [
              "(391,)"
            ]
          },
          "metadata": {},
          "execution_count": 25
        }
      ],
      "source": [
        "for_pred.shape"
      ]
    },
    {
      "cell_type": "code",
      "execution_count": null,
      "metadata": {
        "id": "7Cem317HtoJq"
      },
      "outputs": [],
      "source": [
        "ypred = []\n",
        "for i in range(331):\n",
        "    inp = for_pred[i:i+60].reshape(1,60,1)\n",
        "    ypred.append(model.predict(inp)[0,0])"
      ]
    },
    {
      "cell_type": "code",
      "execution_count": null,
      "metadata": {
        "colab": {
          "base_uri": "https://localhost:8080/"
        },
        "id": "tyUf0U6btoJq",
        "outputId": "c907532c-d51b-44e3-ef21-dab6cb1ee863"
      },
      "outputs": [
        {
          "output_type": "execute_result",
          "data": {
            "text/plain": [
              "[0.8115815,\n",
              " 0.8143514,\n",
              " 0.8204701,\n",
              " 0.8254802,\n",
              " 0.82427603,\n",
              " 0.8230826,\n",
              " 0.83259755,\n",
              " 0.84235585,\n",
              " 0.8491286,\n",
              " 0.8510424,\n",
              " 0.8527155,\n",
              " 0.8451543,\n",
              " 0.8349923,\n",
              " 0.84313166,\n",
              " 0.85208714,\n",
              " 0.8524165,\n",
              " 0.8417682,\n",
              " 0.8316214,\n",
              " 0.815288,\n",
              " 0.8028456,\n",
              " 0.7903951,\n",
              " 0.8180853,\n",
              " 0.8459685,\n",
              " 0.86200345,\n",
              " 0.871685,\n",
              " 0.8754184,\n",
              " 0.885031,\n",
              " 0.88726526,\n",
              " 0.8871699,\n",
              " 0.88983303,\n",
              " 0.8898924,\n",
              " 0.89687014,\n",
              " 0.8989037,\n",
              " 0.89423186,\n",
              " 0.88813037,\n",
              " 0.8795003,\n",
              " 0.8620733,\n",
              " 0.8581403,\n",
              " 0.8706877,\n",
              " 0.8808811,\n",
              " 0.8569609,\n",
              " 0.85994,\n",
              " 0.8690344,\n",
              " 0.8879269,\n",
              " 0.88614935,\n",
              " 0.87816465,\n",
              " 0.87612677,\n",
              " 0.88230544,\n",
              " 0.88805157,\n",
              " 0.8828947,\n",
              " 0.8760894,\n",
              " 0.8729268,\n",
              " 0.86295456,\n",
              " 0.85195214,\n",
              " 0.85762817,\n",
              " 0.8596785,\n",
              " 0.86429983,\n",
              " 0.853167,\n",
              " 0.83857447,\n",
              " 0.8427297,\n",
              " 0.86092657,\n",
              " 0.8597842,\n",
              " 0.86756533,\n",
              " 0.8590016,\n",
              " 0.8580219,\n",
              " 0.8642563,\n",
              " 0.86898875,\n",
              " 0.8685372,\n",
              " 0.8429914,\n",
              " 0.843636,\n",
              " 0.84815013,\n",
              " 0.8517175,\n",
              " 0.840577,\n",
              " 0.8337761,\n",
              " 0.83707136,\n",
              " 0.83540434,\n",
              " 0.841884,\n",
              " 0.85230273,\n",
              " 0.8658965,\n",
              " 0.8715928,\n",
              " 0.8602805,\n",
              " 0.8561515,\n",
              " 0.8481327,\n",
              " 0.85133976,\n",
              " 0.8578063,\n",
              " 0.86475766,\n",
              " 0.8726908,\n",
              " 0.87068963,\n",
              " 0.8622516,\n",
              " 0.8583672,\n",
              " 0.8689758,\n",
              " 0.8815365,\n",
              " 0.8817595,\n",
              " 0.8754419,\n",
              " 0.88602066,\n",
              " 0.89057684,\n",
              " 0.8922717,\n",
              " 0.89698637,\n",
              " 0.900039,\n",
              " 0.9054372,\n",
              " 0.9139848,\n",
              " 0.91606337,\n",
              " 0.91636276,\n",
              " 0.921595,\n",
              " 0.92209435,\n",
              " 0.9258465,\n",
              " 0.92629987,\n",
              " 0.9211906,\n",
              " 0.92428136,\n",
              " 0.92825603,\n",
              " 0.93004835,\n",
              " 0.9332165,\n",
              " 0.92922926,\n",
              " 0.92412764,\n",
              " 0.92210394,\n",
              " 0.92460555,\n",
              " 0.9267945,\n",
              " 0.9234061,\n",
              " 0.9272342,\n",
              " 0.9318846,\n",
              " 0.93112314,\n",
              " 0.9275479,\n",
              " 0.9250373,\n",
              " 0.92228967,\n",
              " 0.9235146,\n",
              " 0.92940724,\n",
              " 0.9305732,\n",
              " 0.93375826,\n",
              " 0.9274244,\n",
              " 0.9234128,\n",
              " 0.92234033,\n",
              " 0.9278719,\n",
              " 0.93175244,\n",
              " 0.9362792,\n",
              " 0.9375491,\n",
              " 0.9295689,\n",
              " 0.92108756,\n",
              " 0.92766804,\n",
              " 0.93159074,\n",
              " 0.9313171,\n",
              " 0.92740613,\n",
              " 0.92433876,\n",
              " 0.92673737,\n",
              " 0.9268933,\n",
              " 0.93279386,\n",
              " 0.94643825,\n",
              " 0.9567368,\n",
              " 0.96123457,\n",
              " 0.9593929,\n",
              " 0.9592719,\n",
              " 0.9599949,\n",
              " 0.96012175,\n",
              " 0.9639213,\n",
              " 0.97285926,\n",
              " 0.97709,\n",
              " 0.9804975,\n",
              " 0.9790353,\n",
              " 0.9726198,\n",
              " 0.9726355,\n",
              " 0.9788062,\n",
              " 0.98121923,\n",
              " 0.98191416,\n",
              " 0.9852269,\n",
              " 0.9968777,\n",
              " 1.0098399,\n",
              " 1.0106966,\n",
              " 1.0177919,\n",
              " 1.0237486,\n",
              " 1.0275941,\n",
              " 1.0274891,\n",
              " 1.0265911,\n",
              " 1.0267605,\n",
              " 1.0259631,\n",
              " 1.0267563,\n",
              " 1.0335329,\n",
              " 1.0406973,\n",
              " 1.0404887,\n",
              " 1.0311612,\n",
              " 1.0359685,\n",
              " 1.0367969,\n",
              " 1.0500171,\n",
              " 1.0552912,\n",
              " 1.0564929,\n",
              " 1.0513979,\n",
              " 1.0478114,\n",
              " 1.0422801,\n",
              " 1.0366106,\n",
              " 1.0426513,\n",
              " 1.0509235,\n",
              " 1.045041,\n",
              " 1.049905,\n",
              " 1.0563487,\n",
              " 1.0604998,\n",
              " 1.0636121,\n",
              " 1.0722302,\n",
              " 1.0827703,\n",
              " 1.0918679,\n",
              " 1.0911206,\n",
              " 1.0830604,\n",
              " 1.0761305,\n",
              " 1.0710844,\n",
              " 1.070258,\n",
              " 1.0769943,\n",
              " 1.076419,\n",
              " 1.0595195,\n",
              " 1.0458314,\n",
              " 1.0545378,\n",
              " 1.0558741,\n",
              " 1.0536364,\n",
              " 1.0572581,\n",
              " 1.0656505,\n",
              " 1.0669476,\n",
              " 1.0658002,\n",
              " 1.0585066,\n",
              " 1.0670887,\n",
              " 1.0700485,\n",
              " 1.0655235,\n",
              " 1.059276,\n",
              " 1.0511495,\n",
              " 1.0324914,\n",
              " 1.0314398,\n",
              " 1.0277385,\n",
              " 1.0329018,\n",
              " 1.010776,\n",
              " 1.0056052,\n",
              " 1.001489,\n",
              " 1.0095968,\n",
              " 1.0237253,\n",
              " 1.0183845,\n",
              " 1.0029787,\n",
              " 1.0108621,\n",
              " 1.0275702,\n",
              " 1.0348148,\n",
              " 1.036255,\n",
              " 1.0294355,\n",
              " 1.0249711,\n",
              " 1.0186697,\n",
              " 1.0181203,\n",
              " 1.0056915,\n",
              " 0.98445034,\n",
              " 0.9858987,\n",
              " 0.9960452,\n",
              " 1.005226,\n",
              " 1.0048304,\n",
              " 1.0084549,\n",
              " 1.0164516,\n",
              " 1.0177641,\n",
              " 1.0173494,\n",
              " 1.0240792,\n",
              " 1.038803,\n",
              " 1.051372,\n",
              " 1.0601257,\n",
              " 1.0534718,\n",
              " 1.0538737,\n",
              " 1.0626681,\n",
              " 1.06745,\n",
              " 1.0757706,\n",
              " 1.0799009,\n",
              " 1.0804572,\n",
              " 1.0825952,\n",
              " 1.0736886,\n",
              " 1.0625646,\n",
              " 1.0508329,\n",
              " 1.041151,\n",
              " 1.0167301,\n",
              " 1.0162433,\n",
              " 1.0093164,\n",
              " 1.0076003,\n",
              " 1.0191257,\n",
              " 1.0343633,\n",
              " 1.0485514,\n",
              " 1.0419861,\n",
              " 1.0372958,\n",
              " 1.021345,\n",
              " 1.0190238,\n",
              " 1.0280929,\n",
              " 1.037838,\n",
              " 1.0297554,\n",
              " 1.0018417,\n",
              " 1.0176902,\n",
              " 1.0218656,\n",
              " 1.0222957,\n",
              " 1.021043,\n",
              " 1.0173368,\n",
              " 1.0108038,\n",
              " 1.0075653,\n",
              " 0.9681042,\n",
              " 0.9757786,\n",
              " 0.98591775,\n",
              " 0.9806264,\n",
              " 0.97398573,\n",
              " 0.9601706,\n",
              " 0.93797493,\n",
              " 0.93879986,\n",
              " 0.9559395,\n",
              " 0.9738081,\n",
              " 0.98100483,\n",
              " 0.99420995,\n",
              " 0.98789674,\n",
              " 1.0000733,\n",
              " 1.0183365,\n",
              " 1.0152858,\n",
              " 1.0228285,\n",
              " 1.0213275,\n",
              " 1.0192038,\n",
              " 1.0149176,\n",
              " 1.0167152,\n",
              " 1.0221556,\n",
              " 1.0319246,\n",
              " 1.0330746,\n",
              " 1.0427451,\n",
              " 1.0634366,\n",
              " 1.0645205,\n",
              " 1.056831,\n",
              " 1.0460007,\n",
              " 1.0494298,\n",
              " 1.0454218,\n",
              " 1.0373636,\n",
              " 1.0325125,\n",
              " 1.0170904,\n",
              " 1.0026139,\n",
              " 1.0073982,\n",
              " 1.0218607,\n",
              " 1.0161544,\n",
              " 1.003977,\n",
              " 1.0121598,\n",
              " 1.0073537,\n",
              " 1.0157125,\n",
              " 1.0116594,\n",
              " 1.0087008,\n",
              " 0.9892634]"
            ]
          },
          "metadata": {},
          "execution_count": 40
        }
      ],
      "source": [
        "ypred"
      ]
    },
    {
      "cell_type": "code",
      "execution_count": null,
      "metadata": {
        "colab": {
          "base_uri": "https://localhost:8080/"
        },
        "id": "jK5uSaVdtoJq",
        "outputId": "4887e43d-0640-46f1-96ae-53bc6b00660e"
      },
      "outputs": [
        {
          "output_type": "execute_result",
          "data": {
            "text/plain": [
              "(331,)"
            ]
          },
          "metadata": {},
          "execution_count": 41
        }
      ],
      "source": [
        "test.shape"
      ]
    },
    {
      "cell_type": "code",
      "execution_count": null,
      "metadata": {
        "id": "N4Cx25wdtoJq"
      },
      "outputs": [],
      "source": [
        "from sklearn.metrics import r2_score"
      ]
    },
    {
      "cell_type": "code",
      "execution_count": null,
      "metadata": {
        "colab": {
          "base_uri": "https://localhost:8080/",
          "height": 281
        },
        "id": "dk3z4HDwtoJr",
        "outputId": "94be34eb-0aa1-4002-fb64-8790de2ad4c3"
      },
      "outputs": [
        {
          "output_type": "display_data",
          "data": {
            "text/plain": [
              "<Figure size 432x288 with 1 Axes>"
            ],
            "image/png": "[encoded data removed]"
          },
          "metadata": {
            "needs_background": "light"
          }
        }
      ],
      "source": [
        "plt.plot(ypred,color='green')\n",
        "plt.plot(test,color='blue')\n",
        "plt.title(f\"r2={r2_score(test, np.array(ypred))}\")\n",
        "plt.show()"
      ]
    },
    {
      "cell_type": "code",
      "source": [
        "scaler.inverse_transform(ypred[0].reshape(1, -1))"
      ],
      "metadata": {
        "colab": {
          "base_uri": "https://localhost:8080/"
        },
        "id": "iEXrfq17yzZA",
        "outputId": "8a8b6529-7949-4e33-e4df-a72fbcbfe950"
      },
      "execution_count": null,
      "outputs": [
        {
          "output_type": "execute_result",
          "data": {
            "text/plain": [
              "array([[15077.71230884]])"
            ]
          },
          "metadata": {},
          "execution_count": 53
        }
      ]
    }
  ],
  "metadata": {
    "accelerator": "GPU",
    "colab": {
      "collapsed_sections": [],
      "provenance": []
    },
    "kernelspec": {
      "display_name": "Python 3",
      "language": "python",
      "name": "python3"
    },
    "language_info": {
      "codemirror_mode": {
        "name": "ipython",
        "version": 3
      },
      "file_extension": ".py",
      "mimetype": "text/x-python",
      "name": "python",
      "nbconvert_exporter": "python",
      "pygments_lexer": "ipython3",
      "version": "3.7.12"
    }
  },
  "nbformat": 4,
  "nbformat_minor": 0
}